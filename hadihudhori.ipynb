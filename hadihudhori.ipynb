{
  "nbformat": 4,
  "nbformat_minor": 0,
  "metadata": {
    "colab": {
      "provenance": []
    },
    "kernelspec": {
      "name": "python3",
      "display_name": "Python 3"
    },
    "language_info": {
      "name": "python"
    }
  },
  "cells": [
    {
      "cell_type": "markdown",
      "source": [
        "# hadihudhori"
      ],
      "metadata": {
        "id": "D2j83oKPpx21"
      }
    },
    {
      "cell_type": "markdown",
      "source": [
        "this is the introduction of my exercise for complate the course"
      ],
      "metadata": {
        "id": "u9xnFf5Jp8ah"
      }
    },
    {
      "cell_type": "markdown",
      "source": [
        "data science language are\n",
        "1. python\n",
        "2. R language"
      ],
      "metadata": {
        "id": "HgHT9Yu6qMHD"
      }
    },
    {
      "cell_type": "markdown",
      "source": [
        "data science library in python are\n",
        "1. numpy\n",
        "2. scikit-learn\n",
        "3. matplotlib"
      ],
      "metadata": {
        "id": "ZxaWS43uqb7Y"
      }
    },
    {
      "cell_type": "markdown",
      "source": [
        "no | language | tool\n",
        "---|----------|------\n",
        "1. | python   | jupiter notebook\n",
        "2. | R        | Rstudio"
      ],
      "metadata": {
        "id": "Tw7a_smurJF5"
      }
    },
    {
      "cell_type": "markdown",
      "source": [
        "this is introduction aritmatic"
      ],
      "metadata": {
        "id": "8kql3n_usH8_"
      }
    },
    {
      "cell_type": "code",
      "source": [
        "2+3*5"
      ],
      "metadata": {
        "colab": {
          "base_uri": "https://localhost:8080/"
        },
        "id": "vDUa1dtIsYWW",
        "outputId": "1e0f1373-c462-407e-c787-8c8dd7e59057"
      },
      "execution_count": 1,
      "outputs": [
        {
          "output_type": "execute_result",
          "data": {
            "text/plain": [
              "17"
            ]
          },
          "metadata": {},
          "execution_count": 1
        }
      ]
    },
    {
      "cell_type": "markdown",
      "source": [
        "minutes to hours"
      ],
      "metadata": {
        "id": "c3U33WZmskGm"
      }
    },
    {
      "cell_type": "code",
      "source": [
        "m = 120\n",
        "h = m / 60\n",
        "\n",
        "print(f'{m} minutes are {h} hours')"
      ],
      "metadata": {
        "colab": {
          "base_uri": "https://localhost:8080/"
        },
        "id": "9oq7yjyPsmMr",
        "outputId": "52a74831-f818-48b0-f835-3cb6c628adc4"
      },
      "execution_count": 5,
      "outputs": [
        {
          "output_type": "stream",
          "name": "stdout",
          "text": [
            "120 minutes are 2.0 hours\n"
          ]
        }
      ]
    },
    {
      "cell_type": "markdown",
      "source": [
        "## list of objective\n",
        "- markdown\n",
        "- code\n",
        "- screenshoot\n",
        "- upload and share"
      ],
      "metadata": {
        "id": "IMJMN11at30U"
      }
    },
    {
      "cell_type": "markdown",
      "source": [
        "#**AUTHOR**\n",
        "Hadi Hudhori\n",
        "\n",
        "\n"
      ],
      "metadata": {
        "id": "v8WCbjB6uJNk"
      }
    },
    {
      "cell_type": "markdown",
      "source": [],
      "metadata": {
        "id": "g5b6g0yruRG7"
      }
    }
  ]
}